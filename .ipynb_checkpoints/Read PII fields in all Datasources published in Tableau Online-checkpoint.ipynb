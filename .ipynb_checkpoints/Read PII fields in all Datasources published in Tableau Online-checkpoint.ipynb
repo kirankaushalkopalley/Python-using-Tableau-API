{
 "cells": [
  {
   "cell_type": "markdown",
   "id": "dd8a5e3c",
   "metadata": {},
   "source": [
    "# Automation script which will read all fields in all datasources published in Tableau Online mainly to track PII information\n",
    "\n",
    " * **Author:** Kiran Kaushal Kopalley\n",
    " * **Idea By:** Srinivasa Murthy Vydyula\n",
    " * **Date Implemented:** 05/03/2022\n",
    " * **Last Change Description:** N/A\n",
    " * **Last Changed on:** N/A"
   ]
  },
  {
   "cell_type": "markdown",
   "id": "17c1f2bc",
   "metadata": {},
   "source": [
    "#### 1. Initializing the libraries required for our automation."
   ]
  },
  {
   "cell_type": "code",
   "execution_count": null,
   "id": "5b0414f7",
   "metadata": {},
   "outputs": [],
   "source": [
    "from tableau_api_lib import TableauServerConnection\n",
    "from tableau_api_lib.utils import flatten_dict_column, querying\n",
    "from tableaudocumentapi import Datasource\n",
    "import tableauserverclient as TSC\n",
    "import os\n",
    "import time\n",
    "import glob as g\n",
    "from datetime import date\n",
    "from urllib import parse\n",
    "from tableaudocumentapi import Datasource\n",
    "import tableauserverclient as TSC\n",
    "import pandas as pd"
   ]
  },
  {
   "cell_type": "markdown",
   "id": "54175dcf",
   "metadata": {},
   "source": [
    "#### 2. Setting up the Configuration which will have all the information related to the Tableau Online connection, this is a parameter which will be consumed by 'TableauServerConnection' constructor\n",
    "\n",
    "Note: Personal Access Token needs to be created in Tableau Online under settings; this is unique for Tableau Admin"
   ]
  },
  {
   "cell_type": "code",
   "execution_count": null,
   "id": "21b71047",
   "metadata": {},
   "outputs": [],
   "source": [
    "tableau_config = {\n",
    "    'tableau_online': {\n",
    "        'server': 'https://10ay.online.tableau.com',\n",
    "        'api_version': '3.16',\n",
    "        'personal_access_token_name':'KK Token',\n",
    "        'personal_access_token_secret':'Insert Token',\n",
    "        'site_name': 'prmiinsights',\n",
    "        'site_url': 'prmiinsights'\n",
    "    }\n",
    "}"
   ]
  },
  {
   "cell_type": "markdown",
   "id": "df50a946",
   "metadata": {},
   "source": [
    "#### 3. Creating a connection variable and signing into PRMI Tableau Online Server\n",
    "\n",
    "General HTML Status Codes are linked [here](https://www.restapitutorial.com/httpstatuscodes.html)\n",
    "\n",
    "* The HTTP 200 indicates that the request has succeeded"
   ]
  },
  {
   "cell_type": "code",
   "execution_count": null,
   "id": "755e5792",
   "metadata": {},
   "outputs": [],
   "source": [
    "conn=TableauServerConnection(tableau_config,env='tableau_online')\n",
    "response=conn.sign_in()\n",
    "response"
   ]
  },
  {
   "cell_type": "markdown",
   "id": "dca99668",
   "metadata": {},
   "source": [
    "#### 4. Read info of all datasources within our Online Server and write into a dataframe; Copy all the datasource id's into a list"
   ]
  },
  {
   "cell_type": "code",
   "execution_count": null,
   "id": "850b2290",
   "metadata": {},
   "outputs": [],
   "source": [
    "datasource_df=querying.get_datasources_dataframe(conn)\n",
    "datasource_df\n",
    "#datasourceidlist=datasource_df['id'].tolist()\n",
    "#print('Length of the list '+str(len(datasourceidlist)))\n",
    "#datasourceidlist"
   ]
  },
  {
   "cell_type": "code",
   "execution_count": null,
   "id": "bd160364",
   "metadata": {},
   "outputs": [],
   "source": [
    "#datasource_df.to_excel('out.xlsx')"
   ]
  },
  {
   "cell_type": "code",
   "execution_count": null,
   "id": "f97cf1f2",
   "metadata": {},
   "outputs": [],
   "source": [
    "df1 = pd.DataFrame(datasource_df['project'].values.tolist())\n",
    "df1.columns = 'project.'+ df1.columns\n",
    "df2 = pd.DataFrame(datasource_df['owner'].values.tolist())\n",
    "df2.columns = 'owner.'+ df2.columns\n",
    "\n",
    "col = datasource_df.columns.difference(['project','owner'])\n",
    "datasource_df = pd.concat([df1,df2,datasource_df[col]],axis=1)\n",
    "datasource_df"
   ]
  },
  {
   "cell_type": "code",
   "execution_count": null,
   "id": "30094839",
   "metadata": {},
   "outputs": [],
   "source": [
    "datasource_df=datasource_df.sort_values('name')\n",
    "datasource_df=datasource_df.reset_index(drop=True)\n",
    "datasource_df"
   ]
  },
  {
   "cell_type": "code",
   "execution_count": null,
   "id": "5ec06398",
   "metadata": {},
   "outputs": [],
   "source": [
    "datasourceidlist=datasource_df['id'].tolist()\n",
    "print('Length of the list '+str(len(datasourceidlist)))\n",
    "datasourceidlist\n",
    "#datasource_df.to_excel('Out1.xlsx',index=False)"
   ]
  },
  {
   "cell_type": "markdown",
   "id": "74e69e4d",
   "metadata": {},
   "source": [
    "#### 5. Establish connection with Tableau Server Client to download all the datasources with their respective datasource id"
   ]
  },
  {
   "cell_type": "code",
   "execution_count": null,
   "id": "7e07d21f",
   "metadata": {},
   "outputs": [],
   "source": [
    "tableau_auth = TSC.PersonalAccessTokenAuth('KK Token', 'hHLqW3xuR6eV2NoYrwrn7w==:XHXqqsk3JQwAIJhHNiSKWvK9xcH5tuCH','prmiinsights')\n",
    "server = TSC.Server('https://10ay.online.tableau.com', use_server_version=True)\n",
    "server.auth.sign_in(tableau_auth)"
   ]
  },
  {
   "cell_type": "markdown",
   "id": "2b57cc74",
   "metadata": {},
   "source": [
    "#### 6. For loop to run through all datasources and download each one of them into our local  'Downloads' folder"
   ]
  },
  {
   "cell_type": "code",
   "execution_count": null,
   "id": "a861aea8",
   "metadata": {},
   "outputs": [],
   "source": [
    "#downloadlocation = input('Enter the location where you want to download all the TDSX files:')\n",
    "a=0\n",
    "for i in datasourceidlist:\n",
    "    print('Downloading File '+str(a+1)+' -> '+ datasource_df.iloc[a]['name']+'\\n')\n",
    "    #server.datasources.download(i)\n",
    "    a=a+1"
   ]
  },
  {
   "cell_type": "markdown",
   "id": "00d371dc",
   "metadata": {},
   "source": [
    "#### 7. Give the location information to read all TDSX files into a list"
   ]
  },
  {
   "cell_type": "code",
   "execution_count": null,
   "id": "4f2fd673",
   "metadata": {},
   "outputs": [],
   "source": [
    "fetchFilesFromLocation = input('Enter the location path from where you need to read the files: ')\n",
    "\n",
    "filesInDirectory = g.glob(os.path.join(fetchFilesFromLocation, \"*.tdsx\"))\n",
    "\n",
    "numberOfFiles = len(filesInDirectory)\n",
    "\n",
    "print(\"\\nNumber of elements in the list: \", numberOfFiles,'\\n')\n",
    "\n",
    "print(*filesInDirectory, sep='\\n\\n')"
   ]
  },
  {
   "cell_type": "markdown",
   "id": "acb4d033",
   "metadata": {},
   "source": [
    "#### 8. Splitter is a user defined function to read the run tag in description section of each field"
   ]
  },
  {
   "cell_type": "code",
   "execution_count": null,
   "id": "e68f678a",
   "metadata": {},
   "outputs": [],
   "source": [
    "def splitter(x):\n",
    "    try: \n",
    "        y = x.split('<run>')[1].split('<')[0] \n",
    "        return y \n",
    "    except: \n",
    "        return \"NA\""
   ]
  },
  {
   "cell_type": "markdown",
   "id": "1e6bed35",
   "metadata": {},
   "source": [
    "#### 9. Initializing an empty dataframe to store information related to all the fields"
   ]
  },
  {
   "cell_type": "code",
   "execution_count": null,
   "id": "0d28cdaa",
   "metadata": {},
   "outputs": [],
   "source": [
    "finaldf = pd.DataFrame()"
   ]
  },
  {
   "cell_type": "markdown",
   "id": "4bf0d2ef",
   "metadata": {},
   "source": [
    "#### 10. Using Nested for loop - outer for loop to read a particular datasource and inner for loop to read all the fields within that datasource"
   ]
  },
  {
   "cell_type": "code",
   "execution_count": null,
   "id": "d2236b3f",
   "metadata": {},
   "outputs": [],
   "source": [
    "i=0\n",
    "for b in filesInDirectory:\n",
    "    sourceTDS = Datasource.from_file(b)\n",
    "    print('----------------------------------------------------------')\n",
    "    print('--- {} total fields in this datasource'.format(len(sourceTDS.fields)))\n",
    "    print('----------------------------------------------------------')\n",
    "    field_1=[]\n",
    "    datatype_1=[]\n",
    "    aggregation_1=[]\n",
    "    description_1=[]\n",
    "    for count, field in enumerate(sourceTDS.fields.values()):\n",
    "        print('{:>4}: {} is a {}'.format(count+1, field.name, field.datatype))\n",
    "        field_1.append(field.name)\n",
    "        datatype_1.append(field.datatype)\n",
    "        aggregation_1.append(field.default_aggregation)\n",
    "        description_1.append(field.description)\n",
    "        blank_line = False\n",
    "        if field.calculation:\n",
    "            print(' the formula is {}'.format(field.calculation))\n",
    "            blank_line = True \n",
    "        if field.default_aggregation: \n",
    "            print(' the default aggregation is {}'.format(field.default_aggregation)) \n",
    "            blank_line = True \n",
    "        if field.description: \n",
    "            print(' the description is {}'.format(field.description)) \n",
    "        if blank_line: \n",
    "            print('')\n",
    "        print('----------------------------------------------------------')\n",
    "        df=pd.DataFrame({'Project Name': datasource_df.iloc[i]['project.name'],\n",
    "                         'DataSource Name': datasource_df.iloc[i]['name'],\n",
    "                         'DataSource ID': datasource_df.iloc[i]['id'],\n",
    "                         'Field Name':field_1,\n",
    "                         'Datatype':datatype_1,\n",
    "                         'Aggregator':aggregation_1,\n",
    "                         'Description':description_1})\n",
    "    finaldf = pd.concat([finaldf,df], ignore_index=True)\n",
    "    df=df.empty\n",
    "    i=i+1"
   ]
  },
  {
   "cell_type": "code",
   "execution_count": null,
   "id": "56264ba2",
   "metadata": {},
   "outputs": [],
   "source": [
    "  sourceTDS.from_file()."
   ]
  },
  {
   "cell_type": "markdown",
   "id": "bf480c24",
   "metadata": {},
   "source": [
    "#### 11. Removing the html like description and only keeping the value within the run tag as our final description."
   ]
  },
  {
   "cell_type": "code",
   "execution_count": null,
   "id": "420c5d8b",
   "metadata": {},
   "outputs": [],
   "source": [
    "finaldf['Description New'] = finaldf['Description'].apply(splitter) \n",
    "finaldf = finaldf.drop(columns=['Description'])\n",
    "finaldf.rename(columns = {'Description New':'Description'}, inplace = True)"
   ]
  },
  {
   "cell_type": "markdown",
   "id": "5d20fd16",
   "metadata": {},
   "source": [
    "#### 12. Writing that dataframe which has all the fields in all datasources into an excel file "
   ]
  },
  {
   "cell_type": "code",
   "execution_count": null,
   "id": "939d7c04",
   "metadata": {},
   "outputs": [],
   "source": [
    "finaldf.to_excel('PII Fields in All Datasources.xlsx', index=False)"
   ]
  },
  {
   "cell_type": "code",
   "execution_count": null,
   "id": "94a6af9b",
   "metadata": {},
   "outputs": [],
   "source": []
  },
  {
   "cell_type": "code",
   "execution_count": null,
   "id": "4165fd84",
   "metadata": {},
   "outputs": [],
   "source": []
  }
 ],
 "metadata": {
  "kernelspec": {
   "display_name": "Python 3 (ipykernel)",
   "language": "python",
   "name": "python3"
  },
  "language_info": {
   "codemirror_mode": {
    "name": "ipython",
    "version": 3
   },
   "file_extension": ".py",
   "mimetype": "text/x-python",
   "name": "python",
   "nbconvert_exporter": "python",
   "pygments_lexer": "ipython3",
   "version": "3.9.12"
  }
 },
 "nbformat": 4,
 "nbformat_minor": 5
}
