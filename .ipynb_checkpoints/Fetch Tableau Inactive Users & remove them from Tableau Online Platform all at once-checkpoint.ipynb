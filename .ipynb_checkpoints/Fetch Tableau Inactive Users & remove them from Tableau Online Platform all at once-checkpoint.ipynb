{
 "cells": [
  {
   "cell_type": "markdown",
   "id": "430d7877",
   "metadata": {},
   "source": [
    "# Use Tableau API library to fetch inactive Tableau users from Tableau Online & deactivate their profiles from the platform all at once.\n",
    "\n",
    " * Developed by: Kiran Kaushal Kopalley\n",
    " * Idea: Kiran Kaushal Kopalley\n",
    " * Date Implemented: 10/01/2022\n",
    " * Last Change Description: \n",
    " * Last Changed on: "
   ]
  },
  {
   "cell_type": "markdown",
   "id": "95fff59e",
   "metadata": {},
   "source": [
    "#### 1. Initializing the libraries required for our script."
   ]
  },
  {
   "cell_type": "code",
   "execution_count": null,
   "id": "3a1c3e82",
   "metadata": {},
   "outputs": [],
   "source": [
    "from tableau_api_lib import TableauServerConnection\n",
    "from tableau_api_lib.utils import flatten_dict_column, querying\n",
    "import pandas as pd"
   ]
  },
  {
   "cell_type": "markdown",
   "id": "902d9be7",
   "metadata": {},
   "source": [
    "#### 2. Setting up the Configuration which will have all the information related to the Tableau Online connection, this is a parameter which will be consumed by 'TableauServerConnection' constructor\n",
    "\n",
    "Note: Personal Access Token needs to be created in Tableau Online under settings; this is unique for Tableau Admin"
   ]
  },
  {
   "cell_type": "code",
   "execution_count": null,
   "id": "104c56d9",
   "metadata": {},
   "outputs": [],
   "source": [
    "tableau_config = {\n",
    "    'tableau_online': {\n",
    "        'server': 'https://10ay.online.tableau.com',\n",
    "        'api_version': '3.18',\n",
    "        'personal_access_token_name':'KK Token',\n",
    "        'personal_access_token_secret':'Insert Token',\n",
    "        'site_name': 'prmiinsights',\n",
    "        'site_url': 'prmiinsights'\n",
    "    }\n",
    "}"
   ]
  },
  {
   "cell_type": "markdown",
   "id": "ac8937a1",
   "metadata": {},
   "source": [
    "#### 3. Creating a connection variable and signing into PRMI Tableau Online Server\n",
    "\n",
    "General HTML Status Codes are linked [here](https://www.restapitutorial.com/httpstatuscodes.html)\n",
    "\n",
    "* The HTTP 200 indicates that the request has succeeded"
   ]
  },
  {
   "cell_type": "code",
   "execution_count": null,
   "id": "ea185305",
   "metadata": {},
   "outputs": [],
   "source": [
    "conn=TableauServerConnection(tableau_config ,env='tableau_online')\n",
    "response=conn.sign_in()\n",
    "response"
   ]
  },
  {
   "cell_type": "markdown",
   "id": "73cb5041",
   "metadata": {},
   "source": [
    "#### 4. Read info of all Tableau users within our Online Server, who haven't logged in yet and write into a dataframe"
   ]
  },
  {
   "cell_type": "code",
   "execution_count": null,
   "id": "d601475d",
   "metadata": {},
   "outputs": [],
   "source": [
    "users_df = querying.get_users_dataframe(conn)\n",
    "users_df = users_df[['fullName', 'email','authSetting', 'siteRole', ]]\n",
    "#users_df.to_excel('Tableau Users.xlsx')\n",
    "#users_df = users_df[users_df['lastLogin'].isna()]\n",
    "users_df.to_excel(\"Tableau Users.xlsx\")"
   ]
  },
  {
   "cell_type": "code",
   "execution_count": null,
   "id": "8b892e2d",
   "metadata": {},
   "outputs": [],
   "source": [
    "users_df"
   ]
  },
  {
   "cell_type": "markdown",
   "id": "b0960e4c",
   "metadata": {},
   "source": [
    "#### 5. Write the data to a CSV file"
   ]
  },
  {
   "cell_type": "code",
   "execution_count": null,
   "id": "f369f5de",
   "metadata": {},
   "outputs": [],
   "source": [
    "users_df.to_csv('Inactive Tableau Users.csv')"
   ]
  },
  {
   "cell_type": "markdown",
   "id": "b80b9e0a",
   "metadata": {},
   "source": [
    "#### 6. Read info of all Inactive Users from CSV file into a new dataframe variable"
   ]
  },
  {
   "cell_type": "code",
   "execution_count": null,
   "id": "5b2087c8",
   "metadata": {},
   "outputs": [],
   "source": [
    "new_user_df = pd.read_csv('Test accounts.csv')"
   ]
  },
  {
   "cell_type": "markdown",
   "id": "f0746387",
   "metadata": {},
   "source": [
    "#### 7. Initialize responses list to capture the html handshakes for each record found in CSV file"
   ]
  },
  {
   "cell_type": "code",
   "execution_count": null,
   "id": "d0ddfdd2",
   "metadata": {},
   "outputs": [],
   "source": [
    "responses=[]"
   ]
  },
  {
   "cell_type": "markdown",
   "id": "24d6bb4d",
   "metadata": {},
   "source": [
    "#### 8. This loop will remove all the users present in the list from the Tableau Online platform"
   ]
  },
  {
   "cell_type": "code",
   "execution_count": null,
   "id": "79d06361",
   "metadata": {},
   "outputs": [],
   "source": [
    "for index, row in new_user_df.iterrows():\n",
    "    response = conn.remove_user_from_site(user_id=row['id'])\n",
    "    responses.append(response)"
   ]
  },
  {
   "cell_type": "markdown",
   "id": "db0da800",
   "metadata": {},
   "source": [
    "#### 9. Outputs the response of all the handshakes between our code (Client) and Tableau Online (Server)\n",
    "\n",
    "General HTML Status Codes are linked [here](https://www.restapitutorial.com/httpstatuscodes.html)\n",
    "\n",
    "The HTTP 204 No Content success status response code indicates that a request has succeeded, but that the client doesn't need to navigate away from its current page."
   ]
  },
  {
   "cell_type": "code",
   "execution_count": null,
   "id": "4b4e1415",
   "metadata": {},
   "outputs": [],
   "source": []
  },
  {
   "cell_type": "code",
   "execution_count": null,
   "id": "e95f7d9e",
   "metadata": {},
   "outputs": [],
   "source": [
    "responses"
   ]
  },
  {
   "cell_type": "code",
   "execution_count": null,
   "id": "9d253aaf",
   "metadata": {},
   "outputs": [],
   "source": [
    "import pyodbc\n",
    "server = 'wsdatawarehouseprod.sql.azuresynapse.net'\n",
    "database = 'dpdatawarehouse'\n",
    "username = 'ReportingUser'\n",
    "password = 'DNp^R3VjHr_G6fzM'   \n",
    "driver= '{ODBC Driver 17 for SQL Server}'\n",
    "\n",
    "\n",
    "with pyodbc.connect('DRIVER='+driver+';SERVER=tcp:'+server+';PORT=1433;DATABASE='+database+';UID='+username+';PWD='+ password) as conn:\n",
    "    with conn.cursor() as cursor:\n",
    "        #query = cursor.execute(\"SELECT * FROM DIM.EmployeeUltiPro WHERE TerminationDate IS NOT NULL\")\n",
    "        query = \"SELECT * FROM DIM.EmployeeUltiPro WHERE TerminationDate IS NOT NULL\"\n",
    "        data = pd.read_sql(query, conn)\n",
    "        #row = cursor.fetchone()\n",
    "        #while row:\n",
    "            #print (row)\n",
    "            #row = cursor.fetchone()"
   ]
  },
  {
   "cell_type": "code",
   "execution_count": null,
   "id": "4cd14095",
   "metadata": {},
   "outputs": [],
   "source": [
    "data"
   ]
  },
  {
   "cell_type": "code",
   "execution_count": null,
   "id": "d3af9d4c",
   "metadata": {},
   "outputs": [],
   "source": [
    "finaldf = pd.merge(users_df, data, left_on='email', right_on='EmailAddress', how='left').drop('EmailAddress', axis=1)"
   ]
  },
  {
   "cell_type": "code",
   "execution_count": null,
   "id": "ec140094",
   "metadata": {},
   "outputs": [],
   "source": [
    "finaldf.to_excel(\"Tableau Users Curated data.xlsx\")"
   ]
  },
  {
   "cell_type": "code",
   "execution_count": null,
   "id": "309e57e9",
   "metadata": {},
   "outputs": [],
   "source": [
    "finaldf[finaldf['TerminationDate'].isna()]"
   ]
  },
  {
   "cell_type": "code",
   "execution_count": null,
   "id": "f2acf745",
   "metadata": {},
   "outputs": [],
   "source": [
    "finaldf.loc[finaldf['TerminationDate'].notnull()]"
   ]
  },
  {
   "cell_type": "code",
   "execution_count": null,
   "id": "7eba043d",
   "metadata": {},
   "outputs": [],
   "source": []
  }
 ],
 "metadata": {
  "kernelspec": {
   "display_name": "Python 3 (ipykernel)",
   "language": "python",
   "name": "python3"
  },
  "language_info": {
   "codemirror_mode": {
    "name": "ipython",
    "version": 3
   },
   "file_extension": ".py",
   "mimetype": "text/x-python",
   "name": "python",
   "nbconvert_exporter": "python",
   "pygments_lexer": "ipython3",
   "version": "3.9.12"
  }
 },
 "nbformat": 4,
 "nbformat_minor": 5
}
