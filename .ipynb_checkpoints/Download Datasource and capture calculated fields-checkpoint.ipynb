{
 "cells": [
  {
   "cell_type": "code",
   "execution_count": null,
   "id": "c4e84c67",
   "metadata": {},
   "outputs": [],
   "source": [
    "from tableau_api_lib import TableauServerConnection\n",
    "from tableau_api_lib.utils import flatten_dict_column, querying\n",
    "from tableaudocumentapi import Datasource\n",
    "import tableauserverclient as TSC\n",
    "import os\n",
    "import time\n",
    "import glob as g\n",
    "from datetime import date\n",
    "from urllib import parse\n",
    "from tableaudocumentapi import Datasource\n",
    "import tableauserverclient as TSC\n",
    "import pandas as pd"
   ]
  },
  {
   "cell_type": "code",
   "execution_count": null,
   "id": "77be6f44",
   "metadata": {},
   "outputs": [],
   "source": [
    "tableau_config = {\n",
    "    'tableau_online': {\n",
    "        'server': 'https://10ay.online.tableau.com',\n",
    "        'api_version': '3.16',\n",
    "        'personal_access_token_name':'KK Token',\n",
    "        'personal_access_token_secret':'<Insert your token>',\n",
    "        'site_name': 'prmiinsights',\n",
    "        'site_url': 'prmiinsights'\n",
    "    }\n",
    "}"
   ]
  },
  {
   "cell_type": "code",
   "execution_count": null,
   "id": "aa89b676",
   "metadata": {},
   "outputs": [],
   "source": [
    "conn=TableauServerConnection(tableau_config,env='tableau_online')\n",
    "response=conn.sign_in()\n",
    "response"
   ]
  },
  {
   "cell_type": "code",
   "execution_count": null,
   "id": "bbef878e",
   "metadata": {},
   "outputs": [],
   "source": [
    "datasource_df=querying.get_datasources_dataframe(conn)\n",
    "datasource_df.to_excel('All Datasources.xlsx')"
   ]
  },
  {
   "cell_type": "code",
   "execution_count": null,
   "id": "ba914406",
   "metadata": {},
   "outputs": [],
   "source": [
    "i = '1e2ac153-3a97-424c-8322-c03715efef91'"
   ]
  },
  {
   "cell_type": "code",
   "execution_count": null,
   "id": "7fe71f4a",
   "metadata": {},
   "outputs": [],
   "source": [
    "tableau_auth = TSC.PersonalAccessTokenAuth('KK Token', '<Insert your token>','prmiinsights')\n",
    "server = TSC.Server('https://10ay.online.tableau.com', use_server_version=True)\n",
    "server.auth.sign_in(tableau_auth)"
   ]
  },
  {
   "cell_type": "code",
   "execution_count": null,
   "id": "120fc136",
   "metadata": {},
   "outputs": [],
   "source": [
    "server.datasources.download(i)"
   ]
  },
  {
   "cell_type": "code",
   "execution_count": null,
   "id": "f1e0c7d3",
   "metadata": {},
   "outputs": [],
   "source": [
    "fetchFilesFromLocation = input('Enter the location path from where you need to read the files: ')\n",
    "\n",
    "filesInDirectory = g.glob(os.path.join(fetchFilesFromLocation, \"*.tdsx\"))\n",
    "\n",
    "numberOfFiles = len(filesInDirectory)\n",
    "\n",
    "print(\"\\nNumber of elements in the list: \", numberOfFiles,'\\n')\n",
    "\n",
    "print(*filesInDirectory, sep='\\n\\n')"
   ]
  },
  {
   "cell_type": "code",
   "execution_count": null,
   "id": "f6e62ca7",
   "metadata": {},
   "outputs": [],
   "source": [
    "def splitter(x):\n",
    "    try: \n",
    "        y = x.split('<run>')[1].split('<')[0] \n",
    "        return y \n",
    "    except: \n",
    "        return \"NA\""
   ]
  },
  {
   "cell_type": "code",
   "execution_count": null,
   "id": "4ae04894",
   "metadata": {},
   "outputs": [],
   "source": [
    "finaldf = pd.DataFrame()"
   ]
  },
  {
   "cell_type": "code",
   "execution_count": null,
   "id": "64e39ef4",
   "metadata": {},
   "outputs": [],
   "source": [
    "i=0\n",
    "for b in filesInDirectory:\n",
    "    sourceTDS = Datasource.from_file(b)\n",
    "    print('----------------------------------------------------------')\n",
    "    print('--- {} total fields in this datasource'.format(len(sourceTDS.fields)))\n",
    "    print('----------------------------------------------------------')\n",
    "    field_1=[]\n",
    "    calculation_1=[]\n",
    "    datatype_1=[]\n",
    "    aggregation_1=[]\n",
    "    description_1=[]\n",
    "    for count, field in enumerate(sourceTDS.fields.values()):\n",
    "        print('{:>4}: {} is a {}'.format(count+1, field.name, field.datatype))\n",
    "        field_1.append(field.name)\n",
    "        datatype_1.append(field.datatype)\n",
    "        calculation_1.append(field.calculation)\n",
    "        aggregation_1.append(field.default_aggregation)\n",
    "        description_1.append(field.description)\n",
    "        blank_line = False\n",
    "        if field.calculation:\n",
    "            print(' the formula is {}'.format(field.calculation))\n",
    "            blank_line = True \n",
    "        if field.default_aggregation: \n",
    "            print(' the default aggregation is {}'.format(field.default_aggregation)) \n",
    "            blank_line = True \n",
    "        if field.description: \n",
    "            print(' the description is {}'.format(field.description)) \n",
    "        if blank_line: \n",
    "            print('')\n",
    "        print('----------------------------------------------------------')\n",
    "        df=pd.DataFrame({\n",
    "                         'Field Name':field_1,\n",
    "                         'Calculation': calculation_1,\n",
    "                         'Datatype':datatype_1,\n",
    "                         'Aggregator':aggregation_1,\n",
    "                         'Description':description_1})\n",
    "    finaldf = pd.concat([finaldf,df], ignore_index=True)\n",
    "    df=df.empty\n",
    "    i=i+1"
   ]
  },
  {
   "cell_type": "code",
   "execution_count": null,
   "id": "553a6327",
   "metadata": {},
   "outputs": [],
   "source": [
    "finaldf.to_excel('Field info.xlsx')"
   ]
  },
  {
   "cell_type": "code",
   "execution_count": null,
   "id": "71d2ffc9",
   "metadata": {},
   "outputs": [],
   "source": []
  }
 ],
 "metadata": {
  "kernelspec": {
   "display_name": "Python 3 (ipykernel)",
   "language": "python",
   "name": "python3"
  },
  "language_info": {
   "codemirror_mode": {
    "name": "ipython",
    "version": 3
   },
   "file_extension": ".py",
   "mimetype": "text/x-python",
   "name": "python",
   "nbconvert_exporter": "python",
   "pygments_lexer": "ipython3",
   "version": "3.9.12"
  }
 },
 "nbformat": 4,
 "nbformat_minor": 5
}
