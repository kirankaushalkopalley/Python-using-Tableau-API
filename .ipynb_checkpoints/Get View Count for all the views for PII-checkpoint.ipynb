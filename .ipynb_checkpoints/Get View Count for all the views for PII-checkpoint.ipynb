{
 "cells": [
  {
   "cell_type": "code",
   "execution_count": null,
   "id": "11c017ef",
   "metadata": {},
   "outputs": [],
   "source": [
    "import tableauserverclient as TSC\n",
    "import pandas as pd"
   ]
  },
  {
   "cell_type": "code",
   "execution_count": null,
   "id": "4719c58c",
   "metadata": {},
   "outputs": [],
   "source": [
    "tableau_auth = TSC.PersonalAccessTokenAuth('tabpy_token', 'Insert Token','prmiinsights')\n",
    "server = TSC.Server('https://10ay.online.tableau.com', use_server_version=True)\n",
    "server.auth.sign_in(tableau_auth)"
   ]
  },
  {
   "cell_type": "code",
   "execution_count": null,
   "id": "86d9bac5",
   "metadata": {},
   "outputs": [],
   "source": [
    "finaldf = pd.DataFrame()"
   ]
  },
  {
   "cell_type": "code",
   "execution_count": null,
   "id": "9b57e313",
   "metadata": {},
   "outputs": [],
   "source": [
    "view = server.views.get(usage=True)\n",
    "workbook = server.workbooks.get()"
   ]
  },
  {
   "cell_type": "code",
   "execution_count": null,
   "id": "6afb0d48",
   "metadata": {},
   "outputs": [],
   "source": [
    "all_projects = list(TSC.Pager(server.projects))\n",
    "tempdf = pd.DataFrame([vars(p) for p in all_projects], columns=['_id', '_name', 'parent_id'])\n",
    "# Update column headers\n",
    "tempdf.rename(columns = {'_id': 'project_id', '_name': 'project_name'}, inplace=True)\n",
    "# create dictionary of project to parent project\n",
    "dct = dict(zip(df.project_id.values, df.parent_id.values))"
   ]
  },
  {
   "cell_type": "code",
   "execution_count": null,
   "id": "3a28dd43",
   "metadata": {},
   "outputs": [],
   "source": [
    "for view in TSC.Pager(server.views, usage=True):\n",
    "    df=pd.DataFrame({'View_Name': view.name,\n",
    "                    'View_ID': view.id,\n",
    "                    'Workbook ID': view.workbook_id,\n",
    "                    'Workbook Name': server.workbooks.get_by_id(view.workbook_id).name,\n",
    "                    'Created at': server.projects.get(view.project_id).count\n",
    "                    'Project ID': view.project_id,\n",
    "                    'Folder Path': view.content_url,\n",
    "                    'View Statistics': view.total_views}, index=[0])\n",
    "    finaldf=pd.concat([finaldf,df],ignore_index=True)"
   ]
  },
  {
   "cell_type": "code",
   "execution_count": null,
   "id": "7d103a7d",
   "metadata": {},
   "outputs": [],
   "source": [
    "finaldf.to_excel('View count.xlsx', index=False)"
   ]
  },
  {
   "cell_type": "code",
   "execution_count": null,
   "id": "2038494a",
   "metadata": {},
   "outputs": [],
   "source": []
  }
 ],
 "metadata": {
  "kernelspec": {
   "display_name": "Python 3 (ipykernel)",
   "language": "python",
   "name": "python3"
  },
  "language_info": {
   "codemirror_mode": {
    "name": "ipython",
    "version": 3
   },
   "file_extension": ".py",
   "mimetype": "text/x-python",
   "name": "python",
   "nbconvert_exporter": "python",
   "pygments_lexer": "ipython3",
   "version": "3.9.12"
  }
 },
 "nbformat": 4,
 "nbformat_minor": 5
}
